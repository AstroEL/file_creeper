{
 "cells": [
  {
   "cell_type": "markdown",
   "id": "f6f404ad-dac8-42c0-aa6c-d7ac3985e5fc",
   "metadata": {
    "tags": []
   },
   "source": [
    "File Creeper\n",
    "------------\n",
    "by Leiland\n",
    "<br>\n",
    "<br>\n",
    "I'm writing this to better organize and analyze my own collection of poetry and scratch notes. \n",
    "<br>\n",
    "I want to extract the following data from a folder of docx files:\n",
    "<br>\n",
    "<br>\n",
    "Count: counts the doc number in folder\n",
    "<br>\n",
    "Title: displays title of doc\n",
    "<br>\n",
    "Number of Paragraphs: displays the number of paragraphs in doc\n",
    "<br>\n",
    "Number of Words: displays the number of words in doc\n",
    "<br>\n",
    "Text: displays the full text of doc getText / searchable / rhyme detection-learning\n",
    "<br>\n",
    "<br>\n",
    "Then to store it in a DataFrame (not sure if this is best way??) to sort and manipulate for data/NLP analysis later"
   ]
  },
  {
   "cell_type": "code",
   "execution_count": 1,
   "id": "42d63236-30be-4b5d-a772-7642e5f3c87f",
   "metadata": {},
   "outputs": [],
   "source": [
    "# import libraries\n",
    "import os\n",
    "import docx\n",
    "import pandas as pd"
   ]
  },
  {
   "cell_type": "code",
   "execution_count": 2,
   "id": "48469197-81fd-451c-90fe-d5504404f11c",
   "metadata": {},
   "outputs": [],
   "source": [
    "# set path directory - so the script knows where to look\n",
    "path = 'D:\\Poetry'\n",
    "os.chdir(path)"
   ]
  },
  {
   "cell_type": "code",
   "execution_count": 3,
   "id": "2f4872ca-af3c-4a58-9d36-1f35ad4473fa",
   "metadata": {
    "scrolled": true,
    "tags": []
   },
   "outputs": [],
   "source": [
    "# read each file into a list called \"docs\"\n",
    "docs = os.listdir()"
   ]
  },
  {
   "cell_type": "code",
   "execution_count": 11,
   "id": "91fae847-ce3a-4887-b71d-f0cc71a98a81",
   "metadata": {
    "scrolled": true,
    "tags": []
   },
   "outputs": [],
   "source": [
    "# takes a single doc\n",
    "def summarizeDoc(doc):\n",
    "    d = docx.Document(doc)\n",
    "    title = doc.title()[:-5]\n",
    "    # // NUMBER OF PARAGRAPHS: num_of_para\n",
    "    # store all paragraphs in variable - we'll then print the len(all_paras) b/c it's a list\n",
    "    all_paras = d.paragraphs\n",
    "    num_of_para = len(all_paras) \n",
    "    # ------------Total Paragraphs and word count\n",
    "    count = 0\n",
    "    wcount = []\n",
    "    full_text_list = []\n",
    "    for para in all_paras:\n",
    "        count += 1\n",
    "        \n",
    "        # for NUMBER OF WORDS - split the str/para by spaces and add via list\n",
    "        wc = len(para.text.split())\n",
    "        wcount.append(wc)\n",
    "        # Appending a list to store each para\n",
    "        full_text_list.append(para.text)\n",
    "\n",
    "        #print(f\"P{count}. {wc} : {para.text}\")\n",
    "    total_wcount = sum(wcount)\n",
    "    \n",
    "    # each para into a single string of text for full text str\n",
    "    full_text_str = '\\n'.join(full_text_list)\n",
    "    print(f\"----SUMMARY--------------\\nTitle: {title}\\nNumber of Paragraphs: {num_of_para}\\nWord Count: {total_wcount}\\n-------------------------\\nFull Text:\\n-------------------------\\n\\n{full_text_str}\\n\\n-----------END of '{title}'--\\n\")"
   ]
  },
  {
   "cell_type": "code",
   "execution_count": 12,
   "id": "cdf50cb2-fc89-4404-91a6-0b4d371af762",
   "metadata": {
    "scrolled": true,
    "tags": []
   },
   "outputs": [],
   "source": [
    "# takes a list of docs\n",
    "def summarizeDocs(docs):\n",
    "    # // COUNT: item_count\n",
    "    # create a counter for the items in the list of documents\n",
    "    item_count = 0\n",
    "\n",
    "    # loop through list of files\n",
    "    for doc in docs:\n",
    "        # only check .docx files [should add .doc, .txt files too eventually]\n",
    "        if doc.endswith(\".docx\"):\n",
    "            # increase item counter\n",
    "            item_count += 1\n",
    "            # print and run summarize doc function\n",
    "            print(f\"{item_count}.\")\n",
    "            summarizeDoc(doc)"
   ]
  },
  {
   "cell_type": "code",
   "execution_count": 15,
   "id": "cc70564e-aead-45fd-85f3-234cd3c57576",
   "metadata": {
    "scrolled": true,
    "tags": []
   },
   "outputs": [],
   "source": [
    "# # run creeper and save to new doc\n",
    "# dd = docx.Document()\n",
    "# dd.add_paragraph(f\"{summarizeDocs(docs)}\")\n",
    "# dd.add_page_break\n",
    "# dd.save('D:\\test_agg.docx')"
   ]
  },
  {
   "cell_type": "code",
   "execution_count": 49,
   "id": "05d56a2d-8601-4db1-b140-059ed163a6f8",
   "metadata": {},
   "outputs": [],
   "source": [
    "# df = pd.DataFrame()\n",
    "# filename = docs[6]\n",
    "# def getText(filename):\n",
    "#     doc = docx.Document(filename)\n",
    "#     fullText = []\n",
    "#     for para in doc.paragraphs:\n",
    "#         fullText.append(para.text)\n",
    "#     print('\\n'.join(fullText))\n",
    "# df['Text'] = getText(filename)"
   ]
  },
  {
   "cell_type": "code",
   "execution_count": 50,
   "id": "086efe4e-7835-4c93-980b-f54e2ffcd120",
   "metadata": {},
   "outputs": [],
   "source": [
    "# doc1 = docx.Document(docs[0])\n",
    "# doc1."
   ]
  },
  {
   "cell_type": "code",
   "execution_count": 51,
   "id": "7896bb24-f340-4745-a816-b0c4fbf9e0a5",
   "metadata": {
    "scrolled": true,
    "tags": []
   },
   "outputs": [],
   "source": [
    "# count = 0\n",
    "# for doc in docs:\n",
    "#     if doc.endswith(\".docx\"):\n",
    "#         count += 1\n",
    "#         x = docx.Document(doc)\n",
    "#         all_paras = x.paragraphs\n",
    "#         x.core_properties\n",
    "#         print(f'{count}. \\n\"{doc.title()[:-5]}\"\\nParagraphs: {len(all_paras)}\\n')\n",
    "#     # for para in all_paras:\n",
    "#     #     print(para.text)\n",
    "#         # print(\"-------\")"
   ]
  }
 ],
 "metadata": {
  "kernelspec": {
   "display_name": "Python 3 (ipykernel)",
   "language": "python",
   "name": "python3"
  },
  "language_info": {
   "codemirror_mode": {
    "name": "ipython",
    "version": 3
   },
   "file_extension": ".py",
   "mimetype": "text/x-python",
   "name": "python",
   "nbconvert_exporter": "python",
   "pygments_lexer": "ipython3",
   "version": "3.9.12"
  }
 },
 "nbformat": 4,
 "nbformat_minor": 5
}
