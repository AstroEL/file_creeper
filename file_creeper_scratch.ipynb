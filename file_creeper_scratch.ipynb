{
 "cells": [
  {
   "cell_type": "code",
   "execution_count": 10,
   "id": "a1571c84-7a54-46e7-abc7-5603fab4338d",
   "metadata": {},
   "outputs": [],
   "source": [
    "import os\n",
    "import docx\n",
    "import pandas as pd"
   ]
  },
  {
   "cell_type": "code",
   "execution_count": 2,
   "id": "48469197-81fd-451c-90fe-d5504404f11c",
   "metadata": {},
   "outputs": [],
   "source": [
    "path = 'D:\\Poetry'\n",
    "os.chdir(path)"
   ]
  },
  {
   "cell_type": "code",
   "execution_count": 3,
   "id": "2f4872ca-af3c-4a58-9d36-1f35ad4473fa",
   "metadata": {},
   "outputs": [],
   "source": [
    "docs = os.listdir()"
   ]
  },
  {
   "cell_type": "code",
   "execution_count": 19,
   "id": "7896bb24-f340-4745-a816-b0c4fbf9e0a5",
   "metadata": {
    "scrolled": true,
    "tags": []
   },
   "outputs": [
    {
     "data": {
      "text/plain": [
       "68"
      ]
     },
     "execution_count": 19,
     "metadata": {},
     "output_type": "execute_result"
    }
   ],
   "source": [
    "doc = docx.Document(docs[34])\n",
    "all_paras = doc.paragraphs\n",
    "len(all_paras)"
   ]
  },
  {
   "cell_type": "code",
   "execution_count": 20,
   "id": "5b4dd937-b2fd-4c2c-ae7b-ad91619c69f7",
   "metadata": {
    "scrolled": true,
    "tags": []
   },
   "outputs": [
    {
     "name": "stdout",
     "output_type": "stream",
     "text": [
      "Villains\n",
      "-------\n",
      "by Leiland prod by Dansonn Beats\n",
      "-------\n",
      "\n",
      "-------\n",
      "Fire fight with 45\n",
      "-------\n",
      "Engines primed and live \n",
      "-------\n",
      "Deep within a state of mind... control \n",
      "-------\n",
      "\n",
      "-------\n",
      "Higher might is on my side \n",
      "-------\n",
      "I can see the lies \n",
      "-------\n",
      "Propaganda from the mouths of the wolves \n",
      "-------\n",
      "\n",
      "-------\n",
      "Back it up back it up\n",
      "-------\n",
      "Let me tell you just a little bit about some things yeah\n",
      "-------\n",
      "Let me tell you just a little bit about being free\n",
      "-------\n",
      "I am bound by my honor to help the family tree\n",
      "-------\n",
      "Given the sight of mind fine with the fire \n",
      "-------\n",
      "Now I've got the desire to go and fight with the Leviathan \n",
      "-------\n",
      "My side on this epic divide the sacred divine the light might mind what you're peddlin' \n",
      "-------\n",
      "With the old pot Hopped and bothered and boiling over \n",
      "-------\n",
      "Screaming that the kettle is black \n",
      "-------\n",
      "I suffer from a puzzling case \n",
      "-------\n",
      "Uncovering truth and weeding out the fakes and the fake facts\n",
      "-------\n",
      "Eeny meeny miny heinie tiny with the whitey tidies \n",
      "-------\n",
      "The white knight from the nineties oh  they say \n",
      "-------\n",
      "Say good bye to the Pisces and make way!\n",
      "-------\n",
      "I'm pouring out the knowledge now of the new age\n",
      "-------\n",
      "\tMachiavellian killuminati \n",
      "-------\n",
      "Fallen from the heavens to the pit Anunnaki \n",
      "-------\n",
      "Incoming echoes of the Anasazi \n",
      "-------\n",
      "Fed up with The Fed and 9/11 to Benghazi \n",
      "-------\n",
      "My name it doesn't matter to you \n",
      "-------\n",
      "And when I'm tattered and bruised\n",
      "-------\n",
      "You watched and let me die \n",
      "-------\n",
      "My name it doesn't matter to you\n",
      "-------\n",
      "Yet when you're tattered and bruised\n",
      "-------\n",
      "I will be there by your side\n",
      "-------\n",
      " \n",
      "-------\n",
      "\n",
      "-------\n",
      "\n",
      "-------\n",
      "\n",
      "-------\n",
      "\n",
      "-------\n",
      "\n",
      "-------\n",
      "\n",
      "-------\n",
      "\n",
      "-------\n",
      "\n",
      "-------\n",
      "\n",
      "-------\n",
      "Look now in the people's eyes\n",
      "-------\n",
      "And see the pupil size\n",
      "-------\n",
      "Get as big as the flying sauce let the light in\n",
      "-------\n",
      "People are waking and making \n",
      "-------\n",
      "\n",
      "-------\n",
      "\n",
      "-------\n",
      "\n",
      "-------\n",
      "\n",
      "-------\n",
      "\n",
      "-------\n",
      "\n",
      "-------\n",
      "\n",
      "-------\n",
      "\n",
      "-------\n",
      "\n",
      "-------\n",
      "\n",
      "-------\n",
      "\n",
      "-------\n",
      "I suffer from a love of the loving another \n",
      "-------\n",
      "Smothered in silky covers \n",
      "-------\n",
      "Made with colors undiscovered\n",
      "-------\n",
      "Some dance in endless summers \n",
      "-------\n",
      "with cinnamon honey in the butter. Yeah.\n",
      "-------\n",
      "\n",
      "-------\n",
      "\n",
      "-------\n"
     ]
    }
   ],
   "source": [
    "for para in all_paras:\n",
    "    print(para.text)\n",
    "    print(\"-------\")"
   ]
  },
  {
   "cell_type": "code",
   "execution_count": null,
   "id": "c9395a90-8b6f-4178-a297-f7087d80571c",
   "metadata": {},
   "outputs": [],
   "source": []
  }
 ],
 "metadata": {
  "kernelspec": {
   "display_name": "Python 3 (ipykernel)",
   "language": "python",
   "name": "python3"
  },
  "language_info": {
   "codemirror_mode": {
    "name": "ipython",
    "version": 3
   },
   "file_extension": ".py",
   "mimetype": "text/x-python",
   "name": "python",
   "nbconvert_exporter": "python",
   "pygments_lexer": "ipython3",
   "version": "3.9.12"
  }
 },
 "nbformat": 4,
 "nbformat_minor": 5
}
