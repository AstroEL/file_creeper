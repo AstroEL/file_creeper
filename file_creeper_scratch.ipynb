{
 "cells": [
  {
   "cell_type": "code",
   "execution_count": 2,
   "id": "a1571c84-7a54-46e7-abc7-5603fab4338d",
   "metadata": {},
   "outputs": [],
   "source": [
    "import os\n",
    "import docx\n",
    "import pandas as pd"
   ]
  },
  {
   "cell_type": "code",
   "execution_count": 3,
   "id": "48469197-81fd-451c-90fe-d5504404f11c",
   "metadata": {},
   "outputs": [],
   "source": [
    "path = 'D:\\Poetry'\n",
    "os.chdir(path)"
   ]
  },
  {
   "cell_type": "code",
   "execution_count": 4,
   "id": "2f4872ca-af3c-4a58-9d36-1f35ad4473fa",
   "metadata": {},
   "outputs": [],
   "source": [
    "docs = os.listdir()"
   ]
  },
  {
   "cell_type": "code",
   "execution_count": 48,
   "id": "7896bb24-f340-4745-a816-b0c4fbf9e0a5",
   "metadata": {
    "scrolled": true,
    "tags": []
   },
   "outputs": [
    {
     "name": "stdout",
     "output_type": "stream",
     "text": [
      "32\n",
      "Heavy Hand\n",
      "P1. 2 : Heavy Hand\n",
      "P2. 2 : by Leiland\n",
      "P3. 0 : \n",
      "P4. 12 : Easy what you say about me when you think I'm not there\n",
      "P5. 10 : Watchers got you on that petty conversation live on air\n",
      "P6. 14 : I will let you know right now that I try not even to care\n",
      "P7. 12 : Heavy is the hand and you know that it will be fair \n",
      "P8. 11 : Easy what you do when you think that nobody sees right?\n",
      "P9. 8 : Nothing more important than moments described as these.\n",
      "P10. 14 : I live for this I got it I flow like wind on the leaves \n",
      "P11. 14 : I give it all with broken heart every time I'm on my knees I, \n",
      "P12. 0 : \n",
      "P13. 8 : I see with the focus of one eye\n",
      "P14. 8 : You're stuck on the mote so it's 'goodbye' \n",
      "P15. 20 : I am what I am and I don't lie I never said I'm perfect but I'm not the bad guy. \n",
      "P16. 8 : I see with the focus of one eye\n",
      "P17. 8 : You're stuck on the mote so it's 'goodbye' \n",
      "P18. 20 : I am what I am and I don't lie I never said I'm perfect but I'm not the bad guy. \n",
      "P19. 0 : \n",
      "P20. 5 : Everybody thinks that he's awesome\n",
      "P21. 5 : Everybody thinks that she's great\n",
      "P22. 7 : Everybody thinks he's got it figured out\n",
      "P23. 15 : But if he could tell you that he don't have a dollar in the bank\n",
      "P24. 0 : \n",
      "P25. 5 : Everybody think that he's OKAY\n",
      "P26. 5 : Everybody thinks that she's fine\n",
      "P27. 7 : Everybody thinks she's got it figured out \n",
      "P28. 13 : But if he could tell you what was going on in his mind\n",
      "P29. 0 : \n",
      "P30. 3 : Everybody think that  \n",
      "P31. 0 : \n",
      "P32. 0 : \n",
      "\n",
      "Final Paragraph Count: 32\n",
      "Total Word Count: 236\n",
      "Text: Heavy Handby LeilandEasy what you say about me when you think I'm not thereWatchers got you on that petty conversation live on airI will let you know right now that I try not even to careHeavy is the hand and you know that it will be fair Easy what you do when you think that nobody sees right?Nothing more important than moments described as these.I live for this I got it I flow like wind on the leaves I give it all with broken heart every time I'm on my knees I, I see with the focus of one eyeYou're stuck on the mote so it's 'goodbye' I am what I am and I don't lie I never said I'm perfect but I'm not the bad guy. I see with the focus of one eyeYou're stuck on the mote so it's 'goodbye' I am what I am and I don't lie I never said I'm perfect but I'm not the bad guy. Everybody thinks that he's awesomeEverybody thinks that she's greatEverybody thinks he's got it figured outBut if he could tell you that he don't have a dollar in the bankEverybody think that he's OKAYEverybody thinks that she's fineEverybody thinks she's got it figured out But if he could tell you what was going on in his mindEverybody think that  \n"
     ]
    }
   ],
   "source": [
    "doc = docx.Document(docs[66])\n",
    "all_paras = doc.paragraphs\n",
    "print(len(all_paras))\n",
    "\n",
    "print(docs[66][:-5].title())\n",
    "\n",
    "# ------------Total Paragraphs and word count dict\n",
    "count = 0\n",
    "wcount = []\n",
    "full_text = []\n",
    "for para in all_paras:\n",
    "    \n",
    "    count += 1\n",
    "    \n",
    "    wc = len(para.text.split())\n",
    "    wcount.append(wc)\n",
    "    full_text.append(para.text)\n",
    "    \n",
    "    print(f\"P{count}. {wc} : {para.text}\")\n",
    "print(f\"\\nFinal Paragraph Count: {count}\")\n",
    "print(f\"Total Word Count: {sum(wcount)}\")\n",
    "print(f\"Text: {''.join(full_text)}\")\n",
    "\n",
    "# paragraph_zero = doc.paragraphs[0].text\n",
    "# paragraph_zero\n",
    "\n",
    "# ------------Single line word count\n",
    "# line_four = doc.paragraphs[4].text\n",
    "# len(line_four)\n",
    "# line_four\n",
    "# wc = len(line_four.split())\n",
    "# wc"
   ]
  },
  {
   "cell_type": "code",
   "execution_count": 17,
   "id": "5b4dd937-b2fd-4c2c-ae7b-ad91619c69f7",
   "metadata": {
    "scrolled": true,
    "tags": []
   },
   "outputs": [
    {
     "name": "stdout",
     "output_type": "stream",
     "text": [
      "Heavy Hand\n",
      "-------\n",
      "by Leiland\n",
      "-------\n",
      "\n",
      "-------\n",
      "Easy what you say about me when you think I'm not there\n",
      "-------\n",
      "Watchers got you on that petty conversation live on air\n",
      "-------\n",
      "I will let you know right now that I try not even to care\n",
      "-------\n",
      "Heavy is the hand and you know that it will be fair \n",
      "-------\n",
      "Easy what you do when you think that nobody sees right?\n",
      "-------\n",
      "Nothing more important than moments described as these.\n",
      "-------\n",
      "I live for this I got it I flow like wind on the leaves \n",
      "-------\n",
      "I give it all with broken heart every time I'm on my knees I, \n",
      "-------\n",
      "\n",
      "-------\n",
      "I see with the focus of one eye\n",
      "-------\n",
      "You're stuck on the mote so it's 'goodbye' \n",
      "-------\n",
      "I am what I am and I don't lie I never said I'm perfect but I'm not the bad guy. \n",
      "-------\n",
      "I see with the focus of one eye\n",
      "-------\n",
      "You're stuck on the mote so it's 'goodbye' \n",
      "-------\n",
      "I am what I am and I don't lie I never said I'm perfect but I'm not the bad guy. \n",
      "-------\n",
      "\n",
      "-------\n",
      "Everybody thinks that he's awesome\n",
      "-------\n",
      "Everybody thinks that she's great\n",
      "-------\n",
      "Everybody thinks he's got it figured out\n",
      "-------\n",
      "But if he could tell you that he don't have a dollar in the bank\n",
      "-------\n",
      "\n",
      "-------\n",
      "Everybody think that he's OKAY\n",
      "-------\n",
      "Everybody thinks that she's fine\n",
      "-------\n",
      "Everybody thinks she's got it figured out \n",
      "-------\n",
      "But if he could tell you what was going on in his mind\n",
      "-------\n",
      "\n",
      "-------\n",
      "Everybody think that  \n",
      "-------\n",
      "\n",
      "-------\n",
      "\n",
      "-------\n"
     ]
    }
   ],
   "source": [
    "for para in all_paras:\n",
    "    print(para.text)\n",
    "    print(\"-------\")"
   ]
  },
  {
   "cell_type": "code",
   "execution_count": null,
   "id": "c9395a90-8b6f-4178-a297-f7087d80571c",
   "metadata": {},
   "outputs": [],
   "source": []
  }
 ],
 "metadata": {
  "kernelspec": {
   "display_name": "Python 3 (ipykernel)",
   "language": "python",
   "name": "python3"
  },
  "language_info": {
   "codemirror_mode": {
    "name": "ipython",
    "version": 3
   },
   "file_extension": ".py",
   "mimetype": "text/x-python",
   "name": "python",
   "nbconvert_exporter": "python",
   "pygments_lexer": "ipython3",
   "version": "3.9.12"
  }
 },
 "nbformat": 4,
 "nbformat_minor": 5
}
